{
 "cells": [
  {
   "cell_type": "markdown",
   "id": "87ab685e",
   "metadata": {},
   "source": [
    "Evens on Left Side and Right side are right in an array"
   ]
  },
  {
   "cell_type": "code",
   "execution_count": 4,
   "id": "ff463867",
   "metadata": {},
   "outputs": [
    {
     "name": "stdout",
     "output_type": "stream",
     "text": [
      "[4, 2, 3, 5, 1]\n"
     ]
    }
   ],
   "source": [
    "def even_odd_partition(A):\n",
    "    next_even, next_odd = 0, len(A) - 1\n",
    "    \n",
    "    while next_even < next_odd:\n",
    "        if A[next_even] % 2 == 0:\n",
    "            next_even += 1\n",
    "        \n",
    "        else:\n",
    "            A[next_even], A[next_odd] = A[next_odd], A[next_even]\n",
    "            next_odd -= 1\n",
    "    return A\n",
    "print(even_odd_partition([1,2,3,4,5]))"
   ]
  },
  {
   "cell_type": "markdown",
   "id": "5dcca5f5",
   "metadata": {},
   "source": [
    "Time Complexity O(n) Space O(1)"
   ]
  },
  {
   "cell_type": "code",
   "execution_count": 5,
   "id": "a3c9622a",
   "metadata": {},
   "outputs": [
    {
     "name": "stdout",
     "output_type": "stream",
     "text": [
      "[2, 4, 3, 1, 5]\n"
     ]
    }
   ],
   "source": [
    "def even_odd_pointer(A):\n",
    "    even_ptr = 0\n",
    "    \n",
    "    for i in range(0, len(A)):\n",
    "        if A[i] % 2 == 0:\n",
    "            A[even_ptr], A[i] = A[i], A[even_ptr]\n",
    "            even_ptr += 1\n",
    "    \n",
    "    return A\n",
    "print(even_odd_pointer([1,2,3,4,5]))\n",
    "        "
   ]
  },
  {
   "cell_type": "markdown",
   "id": "78391673",
   "metadata": {},
   "source": [
    "Time Complexity O(n) Space ComplexityO(1)"
   ]
  },
  {
   "cell_type": "markdown",
   "id": "3cbefd91",
   "metadata": {},
   "source": [
    "### 5.3 Multiply Two Arbitrary Numbers"
   ]
  },
  {
   "cell_type": "code",
   "execution_count": 23,
   "id": "e6d73ae0",
   "metadata": {},
   "outputs": [],
   "source": [
    "def multiply_two_nums(A, B):\n",
    "    sign = -1 if  (A[0] < 0) ^ (B[0] < 0) else 1\n",
    "    result = [0] * (len(A) + len(B))\n",
    "    A[0], B[0] = abs(A[0]), abs(B[0])\n",
    "        \n",
    "    for i in reversed(range(len(A))):\n",
    "        for j in reversed(range(len(B))):\n",
    "            val = A[i] * B[j]\n",
    "            result[i+j+1] += val % 10\n",
    "            result[i+j] += val // 10\n",
    "            \n",
    "    result = result[next((i for i, x in enumerate(result) if x != 0), len(result)):] or [0]\n",
    "    result[0] *= sign\n",
    "    \n",
    "    return result"
   ]
  },
  {
   "cell_type": "code",
   "execution_count": 24,
   "id": "99f0f3df",
   "metadata": {},
   "outputs": [
    {
     "name": "stdout",
     "output_type": "stream",
     "text": [
      "[-4, 9, 5]\n"
     ]
    }
   ],
   "source": [
    "A = [-4,5]\n",
    "B = [1,1]\n",
    "\n",
    "print(multiply_two_nums(A, B))"
   ]
  },
  {
   "cell_type": "markdown",
   "id": "55a8bd44",
   "metadata": {},
   "source": [
    "### 5.10  Permute The Elements Of An Array"
   ]
  },
  {
   "cell_type": "code",
   "execution_count": 9,
   "id": "ba4958b6",
   "metadata": {},
   "outputs": [],
   "source": [
    "def permute_brute(P, A):\n",
    "    result =  [0] * (len(A))\n",
    "    \n",
    "    for k,v in enumerate(P):\n",
    "        result[v] = A[k]\n",
    "    \n",
    "    return result"
   ]
  },
  {
   "cell_type": "code",
   "execution_count": 10,
   "id": "fd351c3d",
   "metadata": {},
   "outputs": [
    {
     "name": "stdout",
     "output_type": "stream",
     "text": [
      "['b', 'c', 'd', 'a']\n"
     ]
    }
   ],
   "source": [
    "P = [3,0,1,2]\n",
    "A = ['a', 'b', 'c', 'd']\n",
    "print(permute_brute(P, A))"
   ]
  },
  {
   "cell_type": "markdown",
   "id": "a1b79f6d",
   "metadata": {},
   "source": [
    "Time Complexity is O(n) and Space Complexity is O(n)"
   ]
  },
  {
   "cell_type": "code",
   "execution_count": 11,
   "id": "18581723",
   "metadata": {},
   "outputs": [],
   "source": [
    "def permute_cycle(P, A):\n",
    "    for i in range(len(A)):\n",
    "        next = i\n",
    "        \n",
    "        while P[next] > 0:\n",
    "            A[i], A[P[next]] = A[P[next]], A[i]\n",
    "            temp = P[next]\n",
    "            P[next] -= len(A)\n",
    "            next = temp\n",
    "    \n",
    "    P = [ val + len(A) for val in P]"
   ]
  },
  {
   "cell_type": "code",
   "execution_count": 14,
   "id": "3a819298",
   "metadata": {},
   "outputs": [
    {
     "name": "stdout",
     "output_type": "stream",
     "text": [
      "['b', 'c', 'd', 'a']\n",
      "[3, 0, 1, 2]\n"
     ]
    }
   ],
   "source": [
    "P = [3,0,1,2]\n",
    "A = ['a', 'b', 'c', 'd']\n",
    "print(permute_brute(P,A))\n",
    "print(P)\n"
   ]
  },
  {
   "cell_type": "markdown",
   "id": "42049f0b",
   "metadata": {},
   "source": [
    "Time Complexity O(n) Space Complexity O(1)"
   ]
  },
  {
   "cell_type": "markdown",
   "id": "b6b94184",
   "metadata": {},
   "source": [
    "### Compute a Random Subset"
   ]
  },
  {
   "cell_type": "code",
   "execution_count": 17,
   "id": "2f4b65ae",
   "metadata": {},
   "outputs": [],
   "source": [
    "import random\n",
    "\n",
    "def random_subset_brute(n,k):\n",
    "    result = list(range(n))\n",
    "    \n",
    "    for i in range(k):\n",
    "        r = random.randint(i, n-1)\n",
    "        result[i], result[r] = result[r], result[i]\n",
    "    \n",
    "    return result[:k]"
   ]
  },
  {
   "cell_type": "markdown",
   "id": "4f138922",
   "metadata": {},
   "source": [
    "Time Complexity O(k), Space O(n)"
   ]
  },
  {
   "cell_type": "code",
   "execution_count": 18,
   "id": "d570330c",
   "metadata": {},
   "outputs": [],
   "source": [
    "def random_subset_hashmap(n,k):\n",
    "    result = {} # key is index in result, value is value\n",
    "    \n",
    "    for i in range(k):\n",
    "        r = random.randint(i, n-1)\n",
    "        \n",
    "        ix_map = result.get(i,i)\n",
    "        rand_ix_map = result.get(r,r)\n",
    "        \n",
    "        result[i] = rand_ix_map\n",
    "        result[rand_ix_map] = ix_map\n",
    "    \n",
    "    return [result[i] for i in range(k)]"
   ]
  },
  {
   "cell_type": "markdown",
   "id": "004dd241",
   "metadata": {},
   "source": [
    "Time Complexity O(k), Space O(k)"
   ]
  },
  {
   "cell_type": "code",
   "execution_count": 36,
   "id": "87b37a8f",
   "metadata": {},
   "outputs": [
    {
     "name": "stdout",
     "output_type": "stream",
     "text": [
      "[2, 5, 0]\n"
     ]
    }
   ],
   "source": [
    "print(random_subset_hashmap(10, 3))"
   ]
  }
 ],
 "metadata": {
  "kernelspec": {
   "display_name": "Python 3 (ipykernel)",
   "language": "python",
   "name": "python3"
  },
  "language_info": {
   "codemirror_mode": {
    "name": "ipython",
    "version": 3
   },
   "file_extension": ".py",
   "mimetype": "text/x-python",
   "name": "python",
   "nbconvert_exporter": "python",
   "pygments_lexer": "ipython3",
   "version": "3.7.8"
  }
 },
 "nbformat": 4,
 "nbformat_minor": 5
}

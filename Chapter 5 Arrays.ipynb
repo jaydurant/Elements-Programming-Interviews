{
 "cells": [
  {
   "cell_type": "markdown",
   "id": "87ab685e",
   "metadata": {},
   "source": [
    "Evens on Left Side and Right side are right in an array"
   ]
  },
  {
   "cell_type": "code",
   "execution_count": 4,
   "id": "ff463867",
   "metadata": {},
   "outputs": [
    {
     "name": "stdout",
     "output_type": "stream",
     "text": [
      "[4, 2, 3, 5, 1]\n"
     ]
    }
   ],
   "source": [
    "def even_odd_partition(A):\n",
    "    next_even, next_odd = 0, len(A) - 1\n",
    "    \n",
    "    while next_even < next_odd:\n",
    "        if A[next_even] % 2 == 0:\n",
    "            next_even += 1\n",
    "        \n",
    "        else:\n",
    "            A[next_even], A[next_odd] = A[next_odd], A[next_even]\n",
    "            next_odd -= 1\n",
    "    return A\n",
    "print(even_odd_partition([1,2,3,4,5]))"
   ]
  },
  {
   "cell_type": "markdown",
   "id": "5dcca5f5",
   "metadata": {},
   "source": [
    "Time Complexity O(n) Space O(1)"
   ]
  },
  {
   "cell_type": "code",
   "execution_count": 5,
   "id": "a3c9622a",
   "metadata": {},
   "outputs": [
    {
     "name": "stdout",
     "output_type": "stream",
     "text": [
      "[2, 4, 3, 1, 5]\n"
     ]
    }
   ],
   "source": [
    "def even_odd_pointer(A):\n",
    "    even_ptr = 0\n",
    "    \n",
    "    for i in range(0, len(A)):\n",
    "        if A[i] % 2 == 0:\n",
    "            A[even_ptr], A[i] = A[i], A[even_ptr]\n",
    "            even_ptr += 1\n",
    "    \n",
    "    return A\n",
    "print(even_odd_pointer([1,2,3,4,5]))\n",
    "        "
   ]
  },
  {
   "cell_type": "markdown",
   "id": "78391673",
   "metadata": {},
   "source": [
    "Time Complexity O(n) Space ComplexityO(1)"
   ]
  },
  {
   "cell_type": "markdown",
   "id": "3cbefd91",
   "metadata": {},
   "source": [
    "### 5.3 Multiply Two Arbitrary Numbers"
   ]
  },
  {
   "cell_type": "code",
   "execution_count": 23,
   "id": "e6d73ae0",
   "metadata": {},
   "outputs": [],
   "source": [
    "def multiply_two_nums(A, B):\n",
    "    sign = -1 if  (A[0] < 0) ^ (B[0] < 0) else 1\n",
    "    result = [0] * (len(A) + len(B))\n",
    "    A[0], B[0] = abs(A[0]), abs(B[0])\n",
    "        \n",
    "    for i in reversed(range(len(A))):\n",
    "        for j in reversed(range(len(B))):\n",
    "            val = A[i] * B[j]\n",
    "            result[i+j+1] += val % 10\n",
    "            result[i+j] += val // 10\n",
    "            \n",
    "    result = result[next((i for i, x in enumerate(result) if x != 0), len(result)):] or [0]\n",
    "    result[0] *= sign\n",
    "    \n",
    "    return result"
   ]
  },
  {
   "cell_type": "code",
   "execution_count": 24,
   "id": "99f0f3df",
   "metadata": {},
   "outputs": [
    {
     "name": "stdout",
     "output_type": "stream",
     "text": [
      "[-4, 9, 5]\n"
     ]
    }
   ],
   "source": [
    "A = [-4,5]\n",
    "B = [1,1]\n",
    "\n",
    "print(multiply_two_nums(A, B))"
   ]
  },
  {
   "cell_type": "markdown",
   "id": "55a8bd44",
   "metadata": {},
   "source": [
    "### 5.10  Permute The Elements Of An Array"
   ]
  },
  {
   "cell_type": "code",
   "execution_count": 6,
   "id": "32de750d",
   "metadata": {},
   "outputs": [],
   "source": [
    "def permute_brute(P, A):\n",
    "    result =  [0] * (len(A))\n",
    "    \n",
    "    for k,v in enumerate(P):\n",
    "        result[v] = A[k]\n",
    "    \n",
    "    return result"
   ]
  },
  {
   "cell_type": "code",
   "execution_count": 7,
   "id": "32282cb9",
   "metadata": {},
   "outputs": [
    {
     "name": "stdout",
     "output_type": "stream",
     "text": [
      "['b', 'c', 'd', 'a']\n"
     ]
    }
   ],
   "source": [
    "P = [3,0,1,2]\n",
    "A = ['a', 'b', 'c', 'd']\n",
    "print(permute_brute(P, A))"
   ]
  },
  {
   "cell_type": "markdown",
   "id": "e44eb9ff",
   "metadata": {},
   "source": [
    "Time Complexity is O(n) and Space Complexity is O(n)"
   ]
  }
 ],
 "metadata": {
  "kernelspec": {
   "display_name": "Python 3 (ipykernel)",
   "language": "python",
   "name": "python3"
  },
  "language_info": {
   "codemirror_mode": {
    "name": "ipython",
    "version": 3
   },
   "file_extension": ".py",
   "mimetype": "text/x-python",
   "name": "python",
   "nbconvert_exporter": "python",
   "pygments_lexer": "ipython3",
   "version": "3.7.8"
  }
 },
 "nbformat": 4,
 "nbformat_minor": 5
}

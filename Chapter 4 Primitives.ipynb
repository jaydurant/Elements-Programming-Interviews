{
 "cells": [
  {
   "cell_type": "markdown",
   "id": "69e50010",
   "metadata": {},
   "source": [
    "## Count Ones Bits 4.0"
   ]
  },
  {
   "cell_type": "code",
   "execution_count": null,
   "id": "15405766",
   "metadata": {},
   "outputs": [],
   "source": [
    "def count_bits(x):\n",
    "    # set count = 0\n",
    "    count = 0\n",
    "    \n",
    "    while x:\n",
    "        # compare x and 1 lowest bit mask and add to count if\n",
    "        # lowest bit is 1\n",
    "        count += x & 1\n",
    "    \n",
    "        # right shift by 1\n",
    "        x >>= 1\n",
    "        \n",
    "    return count"
   ]
  },
  {
   "cell_type": "markdown",
   "id": "118b5a3a",
   "metadata": {},
   "source": [
    "Time Complexity is O(n) Space O(1)"
   ]
  },
  {
   "cell_type": "markdown",
   "id": "d1c860c9",
   "metadata": {},
   "source": [
    "## Parity 4.1\n",
    "\n",
    "The parity of a binary word is 1\n",
    "if the number of 1s in the word is odd; otherwise, it is 0.\n",
    "For\n",
    "example, the parity of 1011 is 1, and the parity of 10001000 is 0. Parity checks are used to detect\n",
    "single bit errors in data storage and communication. It is fairly straightforward to write code that\n",
    "computes the parity of a single 64-bit word.\n",
    "How would you compute the parity of a very large number of 64-bit words?"
   ]
  },
  {
   "cell_type": "code",
   "execution_count": 1,
   "id": "4553b44b",
   "metadata": {},
   "outputs": [],
   "source": [
    "def parity(x):\n",
    "    result = 0\n",
    "    \n",
    "    while x:\n",
    "        # check if binary value has the lowest value set to 1 with mask\n",
    "        # and use XOR to change result which will be 1 if ones are odd \n",
    "        # and 0 if even\n",
    "        result ^= x & 1\n",
    "        \n",
    "        # shift binary value to right\n",
    "        x >>= 1\n",
    "    \n",
    "    return result"
   ]
  },
  {
   "cell_type": "markdown",
   "id": "136b5ee4",
   "metadata": {},
   "source": [
    "Time Complexity O(n) Space:O(1)1"
   ]
  },
  {
   "cell_type": "code",
   "execution_count": 17,
   "id": "cc248719",
   "metadata": {},
   "outputs": [],
   "source": [
    "def parity_k(x):\n",
    "    \n",
    "    result = 0\n",
    "    print('hello')\n",
    "    while x:\n",
    "        # set result to 1 for odd number of 1 bits and 0 for even\n",
    "        result ^= 1\n",
    "        #remove the last bit from the binary representation\n",
    "        x &= (x-1)\n",
    "    \n",
    "    return result"
   ]
  },
  {
   "cell_type": "markdown",
   "id": "6bfe839c",
   "metadata": {},
   "source": [
    "Time Complexity(k) k being number of 1s "
   ]
  },
  {
   "cell_type": "markdown",
   "id": "4898a80f",
   "metadata": {},
   "source": [
    "- cannot cache all 64 bit words that would take 2^64 bits of storage\n",
    "- can take all 16 bit subwords which is 2^16 = 65536 subwords which can be cached\n",
    "- take parity of each subword, and then taking the parity of these subwords summed together"
   ]
  },
  {
   "cell_type": "code",
   "execution_count": 21,
   "id": "fe7f5136",
   "metadata": {},
   "outputs": [],
   "source": [
    "def parity_cache(x):\n",
    "    bit_mask = 0xFFFF\n",
    "    mask_size = 16\n",
    "    \n",
    "    return (ParityCache[x >> 3*(mask_size)] ^\n",
    "    ParityCache[(x >> 2 * mask_size) & bit_mask] ^\n",
    "    ParityCache[(x >> mask_size) & bit_mask] ^\n",
    "    ParityCache[x & bit_mask])\n",
    "    \n",
    "    \n"
   ]
  },
  {
   "cell_type": "markdown",
   "id": "b95c3c40",
   "metadata": {},
   "source": [
    "Time complexity is O(n/L) where l is length of subword"
   ]
  },
  {
   "cell_type": "code",
   "execution_count": 25,
   "id": "a591b142",
   "metadata": {},
   "outputs": [],
   "source": [
    "def parity_xor(x):\n",
    "    x ^= x >> 32\n",
    "    x ^= x >> 16\n",
    "    x ^= x >> 8\n",
    "    x ^= x >> 4\n",
    "    x ^= x >> 2\n",
    "    x ^= x >> 1\n",
    "    return x & 0x1"
   ]
  },
  {
   "cell_type": "markdown",
   "id": "34aa5cc1",
   "metadata": {},
   "source": [
    "Time Complexity is O(log n) and Space is O(1)"
   ]
  },
  {
   "cell_type": "markdown",
   "id": "42265901",
   "metadata": {},
   "source": [
    "Variants"
   ]
  },
  {
   "cell_type": "markdown",
   "id": "6780220d",
   "metadata": {},
   "source": [
    "Right propagate the rightmost set bit in x, e.9., tums (01010000)2 to (01011111)2."
   ]
  },
  {
   "cell_type": "code",
   "execution_count": 1,
   "id": "0b4da031",
   "metadata": {},
   "outputs": [
    {
     "name": "stdout",
     "output_type": "stream",
     "text": [
      "15\n"
     ]
    }
   ],
   "source": [
    "def propagate(x):\n",
    "    \n",
    "    right = x & ~(x-1)\n",
    "    mask = right - 1\n",
    "    \n",
    "    return x | mask\n"
   ]
  },
  {
   "cell_type": "code",
   "execution_count": 7,
   "id": "5c3b85a6",
   "metadata": {},
   "outputs": [
    {
     "name": "stdout",
     "output_type": "stream",
     "text": [
      "7\n"
     ]
    }
   ],
   "source": [
    "def mod(x, pow_two):\n",
    "    if pow_two == 0:\n",
    "        return 0\n",
    "    mask = (1 << pow_two) - 1\n",
    "    \n",
    "    return x & mask\n",
    "\n",
    "print(mod(15\n",
    "          , 3))"
   ]
  }
 ],
 "metadata": {
  "kernelspec": {
   "display_name": "Python 3 (ipykernel)",
   "language": "python",
   "name": "python3"
  },
  "language_info": {
   "codemirror_mode": {
    "name": "ipython",
    "version": 3
   },
   "file_extension": ".py",
   "mimetype": "text/x-python",
   "name": "python",
   "nbconvert_exporter": "python",
   "pygments_lexer": "ipython3",
   "version": "3.7.8"
  }
 },
 "nbformat": 4,
 "nbformat_minor": 5
}

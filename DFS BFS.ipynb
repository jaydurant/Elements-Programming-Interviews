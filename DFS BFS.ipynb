{
 "cells": [
  {
   "cell_type": "markdown",
   "id": "83f25f89",
   "metadata": {},
   "source": [
    "ITERATIVE DFS BFS"
   ]
  },
  {
   "cell_type": "code",
   "execution_count": 2,
   "id": "8cfb8804",
   "metadata": {},
   "outputs": [],
   "source": [
    "def maxDepthDFSIter(root):\n",
    "    stack = [[root, 1]]\n",
    "    result = 0\n",
    "    \n",
    "    while stack:\n",
    "        node, depth = stack.pop()\n",
    "        \n",
    "        if node:\n",
    "            result = max(result, depth)\n",
    "            \n",
    "            stack.append([node.left, depth + 1])\n",
    "            stack.append([node.right, depth + 1])\n",
    "            \n",
    "    return result"
   ]
  },
  {
   "cell_type": "code",
   "execution_count": null,
   "id": "b800dda5",
   "metadata": {},
   "outputs": [],
   "source": [
    "from collections import deque\n",
    "def maxDepthBFSIter(root):\n",
    "    if not root:\n",
    "        return 0\n",
    "    \n",
    "    level = 0\n",
    "    q = deque([root])\n",
    "    \n",
    "    while q:\n",
    "        for i in range(len(q)):\n",
    "            node = q.popleft()\n",
    "            if node.left:\n",
    "                q.append(node.left)\n",
    "            if node.right:\n",
    "                q.append(node.right)\n",
    "        level += 1\n",
    "    \n",
    "    return level\n",
    "    "
   ]
  },
  {
   "cell_type": "markdown",
   "id": "a54ba139",
   "metadata": {},
   "source": [
    "Reursive Depth"
   ]
  },
  {
   "cell_type": "code",
   "execution_count": null,
   "id": "a6be870e",
   "metadata": {},
   "outputs": [],
   "source": [
    "def maxDepthDFS(root):\n",
    "    if not root:\n",
    "        return 0\n",
    "    \n",
    "    return 1 + max(maxDepth(root.left), maxDepth(root.right))\n",
    "    \n",
    "    "
   ]
  }
 ],
 "metadata": {
  "kernelspec": {
   "display_name": "Python 3 (ipykernel)",
   "language": "python",
   "name": "python3"
  },
  "language_info": {
   "codemirror_mode": {
    "name": "ipython",
    "version": 3
   },
   "file_extension": ".py",
   "mimetype": "text/x-python",
   "name": "python",
   "nbconvert_exporter": "python",
   "pygments_lexer": "ipython3",
   "version": "3.7.8"
  }
 },
 "nbformat": 4,
 "nbformat_minor": 5
}

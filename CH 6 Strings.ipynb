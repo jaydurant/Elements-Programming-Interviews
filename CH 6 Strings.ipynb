{
 "cells": [
  {
   "cell_type": "markdown",
   "id": "069bbe27",
   "metadata": {},
   "source": [
    "Is a string a palindrome"
   ]
  },
  {
   "cell_type": "code",
   "execution_count": 2,
   "id": "dc257229",
   "metadata": {},
   "outputs": [],
   "source": [
    "def is_palindrome(s):\n",
    "    \n",
    "    return all( s[i] == s[len(s) - i - 1] for i in range(len(s) // 2))"
   ]
  },
  {
   "cell_type": "code",
   "execution_count": 7,
   "id": "ae535d01",
   "metadata": {},
   "outputs": [
    {
     "name": "stdout",
     "output_type": "stream",
     "text": [
      "True\n",
      "True\n",
      "True\n",
      "True\n",
      "False\n"
     ]
    }
   ],
   "source": [
    "test1 = \"\"\n",
    "test2 = \"a\"\n",
    "test3 = \"aba\"\n",
    "test4 = \"abba\"\n",
    "test5 = \"catinthebag\"\n",
    "\n",
    "print(is_palindrome(test1))\n",
    "print(is_palindrome(test2))\n",
    "print(is_palindrome(test3))\n",
    "print(is_palindrome(test4))\n",
    "print(is_palindrome(test5))"
   ]
  },
  {
   "cell_type": "markdown",
   "id": "e32c0284",
   "metadata": {},
   "source": [
    "Time Complexity O(n) and Space Complexity O(1)"
   ]
  },
  {
   "cell_type": "markdown",
   "id": "b97d610c",
   "metadata": {},
   "source": [
    "### 6.9 Convert from Roman to Decimal"
   ]
  },
  {
   "cell_type": "code",
   "execution_count": 23,
   "id": "5951d1df",
   "metadata": {},
   "outputs": [],
   "source": [
    "def roman_to_integer(s):\n",
    "    roman_map = {'I': 1, \"V\": 5, \"X\": 10, \"L\": 50, \"C\": 100, \"D\":500, \"M\": 1000}\n",
    "    val = roman_map[s[-1]]\n",
    "    \n",
    "    for i in reversed(range(len(s) - 1)):\n",
    "        val += -roman_map[s[i]]  if roman_map[s[i]] < roman_map[s[i + 1]] else roman_map[s[i]]\n",
    "    \n",
    "    return val"
   ]
  },
  {
   "cell_type": "code",
   "execution_count": 26,
   "id": "1f98d3a6",
   "metadata": {},
   "outputs": [
    {
     "name": "stdout",
     "output_type": "stream",
     "text": [
      "3\n",
      "14\n",
      "1601\n"
     ]
    }
   ],
   "source": [
    "print(roman_to_integer(\"III\"))\n",
    "print(roman_to_integer(\"XIV\"))\n",
    "print(roman_to_integer(\"MDCI\"))"
   ]
  },
  {
   "cell_type": "markdown",
   "id": "7aeb2fb7",
   "metadata": {},
   "source": [
    "Time Complexity O(n) Space is O(1)"
   ]
  },
  {
   "cell_type": "markdown",
   "id": "846e2ec7",
   "metadata": {},
   "source": [
    "### Variant : Write a program that takes as input a string of Roman number symbols and checks whether the string is valid"
   ]
  },
  {
   "cell_type": "code",
   "execution_count": 28,
   "id": "62c865b5",
   "metadata": {},
   "outputs": [],
   "source": [
    "def valid_roman_integer(s):\n",
    "    if len(s) == 1:\n",
    "        return True\n",
    "    \n",
    "    T = {\"X\": \"I\", \"V\": \"I\", \"L\": \"X\", \"C\": \"X\", \"D\": \"C\", \"M\": \"C\"}\n",
    "    R = {'I': 1, \"V\": 5, \"X\": 10, \"L\": 50, \"C\": 100, \"D\":500, \"M\": 1000}\n",
    "    \n",
    "    for i in reversed(range(len(s)-1)):\n",
    "        if R[s[i]] < R[s[i + 1]]:\n",
    "            if T[s[i + 1]] != s[i]:\n",
    "                return False\n",
    "    \n",
    "    return True"
   ]
  },
  {
   "cell_type": "code",
   "execution_count": 35,
   "id": "b4ca58d0",
   "metadata": {},
   "outputs": [
    {
     "name": "stdout",
     "output_type": "stream",
     "text": [
      "True\n",
      "False\n",
      "False\n",
      "True\n",
      "False\n"
     ]
    }
   ],
   "source": [
    "print(valid_roman_integer(\"IIIIIIIV\"))\n",
    "print(valid_roman_integer(\"IMMMMMM\"))\n",
    "print(valid_roman_integer(\"CDM\"))\n",
    "print(valid_roman_integer(\"CMVI\"))\n",
    "print(valid_roman_integer(\"CXDM\"))"
   ]
  },
  {
   "cell_type": "markdown",
   "id": "78fc3ffe",
   "metadata": {},
   "source": [
    "### Variant: Write a program that takes as input a positive integer n and returns a shortest valid simple Roman number string representing n"
   ]
  },
  {
   "cell_type": "code",
   "execution_count": 53,
   "id": "5d7311fe",
   "metadata": {},
   "outputs": [],
   "source": [
    "T= [\n",
    "    (\"M\", 1000),\n",
    "    (\"CM\",900), \n",
    "    (\"D\", 500), \n",
    "    (\"CD\", 400), \n",
    "    ('C', 100),\n",
    "    ('XC', 90),\n",
    "    ('L', 50),\n",
    "    (\"XL\", 40),\n",
    "    (\"X\", 10),\n",
    "    (\"IX\", 9),\n",
    "    (\"V\", 5),\n",
    "    (\"IV\", 4),\n",
    "    (\"I\", 1)\n",
    "\n",
    "] \n",
    "\n",
    "def integer_to_roman(num):\n",
    "    result = \"\"\n",
    "    \n",
    "    for val in T:\n",
    "        y = val[1]\n",
    "        if num // y > 0:\n",
    "            quotient = num // y\n",
    "            result +=  quotient  * val[0]\n",
    "            num %= y\n",
    "            \n",
    "            if num < 0:\n",
    "                break\n",
    "    \n",
    "    return result\n",
    "        \n",
    "    "
   ]
  },
  {
   "cell_type": "code",
   "execution_count": 54,
   "id": "10ba10a7",
   "metadata": {},
   "outputs": [
    {
     "name": "stdout",
     "output_type": "stream",
     "text": [
      "XCIX\n"
     ]
    }
   ],
   "source": [
    "print(integer_to_roman(99))"
   ]
  },
  {
   "cell_type": "markdown",
   "id": "946ee9b3",
   "metadata": {},
   "source": [
    "Time Complexity O(1) Space Complexity O(1)"
   ]
  }
 ],
 "metadata": {
  "kernelspec": {
   "display_name": "Python 3 (ipykernel)",
   "language": "python",
   "name": "python3"
  },
  "language_info": {
   "codemirror_mode": {
    "name": "ipython",
    "version": 3
   },
   "file_extension": ".py",
   "mimetype": "text/x-python",
   "name": "python",
   "nbconvert_exporter": "python",
   "pygments_lexer": "ipython3",
   "version": "3.7.8"
  }
 },
 "nbformat": 4,
 "nbformat_minor": 5
}

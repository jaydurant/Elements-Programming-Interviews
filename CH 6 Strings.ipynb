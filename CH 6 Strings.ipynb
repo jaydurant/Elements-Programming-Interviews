{
 "cells": [
  {
   "cell_type": "markdown",
   "id": "de2c016f",
   "metadata": {},
   "source": [
    "Is a string a palindrome"
   ]
  },
  {
   "cell_type": "code",
   "execution_count": 2,
   "id": "507ebb35",
   "metadata": {},
   "outputs": [],
   "source": [
    "def is_palindrome(s):\n",
    "    \n",
    "    return all( s[i] == s[len(s) - i - 1] for i in range(len(s) // 2))"
   ]
  },
  {
   "cell_type": "code",
   "execution_count": 7,
   "id": "b253110c",
   "metadata": {},
   "outputs": [
    {
     "name": "stdout",
     "output_type": "stream",
     "text": [
      "True\n",
      "True\n",
      "True\n",
      "True\n",
      "False\n"
     ]
    }
   ],
   "source": [
    "test1 = \"\"\n",
    "test2 = \"a\"\n",
    "test3 = \"aba\"\n",
    "test4 = \"abba\"\n",
    "test5 = \"catinthebag\"\n",
    "\n",
    "print(is_palindrome(test1))\n",
    "print(is_palindrome(test2))\n",
    "print(is_palindrome(test3))\n",
    "print(is_palindrome(test4))\n",
    "print(is_palindrome(test5))"
   ]
  },
  {
   "cell_type": "markdown",
   "id": "3e01c9cd",
   "metadata": {},
   "source": [
    "Time Complexity O(n) and Space Complexity O(1)"
   ]
  },
  {
   "cell_type": "markdown",
   "id": "c3564476",
   "metadata": {},
   "source": [
    "### 6.9 Convert from Roman to Decimal"
   ]
  },
  {
   "cell_type": "code",
   "execution_count": 23,
   "id": "085ca926",
   "metadata": {},
   "outputs": [],
   "source": [
    "def roman_to_integer(s):\n",
    "    roman_map = {'I': 1, \"V\": 5, \"X\": 10, \"L\": 50, \"C\": 100, \"D\":500, \"M\": 1000}\n",
    "    val = roman_map[s[-1]]\n",
    "    \n",
    "    for i in reversed(range(len(s) - 1)):\n",
    "        val += -roman_map[s[i]]  if roman_map[s[i]] < roman_map[s[i + 1]] else roman_map[s[i]]\n",
    "    \n",
    "    return val"
   ]
  },
  {
   "cell_type": "code",
   "execution_count": 26,
   "id": "4f742eb9",
   "metadata": {},
   "outputs": [
    {
     "name": "stdout",
     "output_type": "stream",
     "text": [
      "3\n",
      "14\n",
      "1601\n"
     ]
    }
   ],
   "source": [
    "print(roman_to_integer(\"III\"))\n",
    "print(roman_to_integer(\"XIV\"))\n",
    "print(roman_to_integer(\"MDCI\"))"
   ]
  },
  {
   "cell_type": "markdown",
   "id": "59ac44d9",
   "metadata": {},
   "source": [
    "Time Complexity O(n) Space is O(1)"
   ]
  },
  {
   "cell_type": "markdown",
   "id": "370e8965",
   "metadata": {},
   "source": [
    "### Variant : Write a program that takes as input a string of Roman number symbols and checks whether the string is valid"
   ]
  },
  {
   "cell_type": "code",
   "execution_count": 28,
   "id": "d015ba7c",
   "metadata": {},
   "outputs": [],
   "source": [
    "def valid_roman_integer(s):\n",
    "    if len(s) == 1:\n",
    "        return True\n",
    "    \n",
    "    T = {\"X\": \"I\", \"V\": \"I\", \"L\": \"X\", \"C\": \"X\", \"D\": \"C\", \"M\": \"C\"}\n",
    "    R = {'I': 1, \"V\": 5, \"X\": 10, \"L\": 50, \"C\": 100, \"D\":500, \"M\": 1000}\n",
    "    \n",
    "    for i in reversed(range(len(s)-1)):\n",
    "        if R[s[i]] < R[s[i + 1]]:\n",
    "            if T[s[i + 1]] != s[i]:\n",
    "                return False\n",
    "    \n",
    "    return True"
   ]
  },
  {
   "cell_type": "code",
   "execution_count": 35,
   "id": "7a2ef363",
   "metadata": {},
   "outputs": [
    {
     "name": "stdout",
     "output_type": "stream",
     "text": [
      "True\n",
      "False\n",
      "False\n",
      "True\n",
      "False\n"
     ]
    }
   ],
   "source": [
    "print(valid_roman_integer(\"IIIIIIIV\"))\n",
    "print(valid_roman_integer(\"IMMMMMM\"))\n",
    "print(valid_roman_integer(\"CDM\"))\n",
    "print(valid_roman_integer(\"CMVI\"))\n",
    "print(valid_roman_integer(\"CXDM\"))"
   ]
  },
  {
   "cell_type": "markdown",
   "id": "a9665fe6",
   "metadata": {},
   "source": [
    "### Variant: Write a program that takes as input a positive integer n and returns a shortest valid simple Roman number string representing n"
   ]
  },
  {
   "cell_type": "code",
   "execution_count": 53,
   "id": "dd3e0616",
   "metadata": {},
   "outputs": [],
   "source": [
    "T= [\n",
    "    (\"M\", 1000),\n",
    "    (\"CM\",900), \n",
    "    (\"D\", 500), \n",
    "    (\"CD\", 400), \n",
    "    ('C', 100),\n",
    "    ('XC', 90),\n",
    "    ('L', 50),\n",
    "    (\"XL\", 40),\n",
    "    (\"X\", 10),\n",
    "    (\"IX\", 9),\n",
    "    (\"V\", 5),\n",
    "    (\"IV\", 4),\n",
    "    (\"I\", 1)\n",
    "\n",
    "] \n",
    "\n",
    "def integer_to_roman(num):\n",
    "    result = \"\"\n",
    "    \n",
    "    for val in T:\n",
    "        y = val[1]\n",
    "        if num // y > 0:\n",
    "            quotient = num // y\n",
    "            result +=  quotient  * val[0]\n",
    "            num %= y\n",
    "            \n",
    "            if num < 0:\n",
    "                break\n",
    "    \n",
    "    return result\n",
    "        \n",
    "    "
   ]
  },
  {
   "cell_type": "code",
   "execution_count": 54,
   "id": "cfb07f5a",
   "metadata": {},
   "outputs": [
    {
     "name": "stdout",
     "output_type": "stream",
     "text": [
      "XCIX\n"
     ]
    }
   ],
   "source": [
    "print(integer_to_roman(99))"
   ]
  },
  {
   "cell_type": "markdown",
   "id": "09dfc700",
   "metadata": {},
   "source": [
    "Time Complexity O(1) Space Complexity O(1)"
   ]
  },
  {
   "cell_type": "markdown",
   "id": "5ab87d2f",
   "metadata": {},
   "source": [
    "### 6.10 Reconstruct IP Address\n",
    "\n",
    "Write a Program that determines where to add periods to a decimat string so that the resulting\n",
    "\n",
    "string is a valid IP address. There may be more than one valid IP address corresponding to a string,\n",
    "in which case you should print all possibilities."
   ]
  },
  {
   "cell_type": "code",
   "execution_count": 69,
   "id": "a25b094b",
   "metadata": {},
   "outputs": [],
   "source": [
    "def valid_str(s):\n",
    "    return True if len(s) == 1 or (int(s) <= 255and s[0] != \"0\") else False"
   ]
  },
  {
   "cell_type": "code",
   "execution_count": 84,
   "id": "09f60a31",
   "metadata": {},
   "outputs": [],
   "source": [
    "def reconstruct_ip(s):\n",
    "    result = []\n",
    "    size_s = len(s)\n",
    "    \n",
    "    for i in range(1, min(len(s), 4)):\n",
    "        \n",
    "        part1 = s[:i]\n",
    "        if valid_str(part1):\n",
    "            for j in range(1,min(len(s) - i, 4)):\n",
    "                \n",
    "                part2 = s[i: i + j]\n",
    "                if valid_str(part2):\n",
    "                    for k in range(1,min(len(s) - i - j,4)):\n",
    "        \n",
    "                        part3, part4 = s[i+j: i+ j + k], s[i+j+k:]\n",
    "                        if valid_str(part3) and valid_str(part4):\n",
    "                            ip = \".\".join([part1, part2, part3, part4])\n",
    "                            result.append(ip)\n",
    "    return result"
   ]
  },
  {
   "cell_type": "code",
   "execution_count": null,
   "id": "163796ba",
   "metadata": {},
   "outputs": [],
   "source": []
  }
 ],
 "metadata": {
  "kernelspec": {
   "display_name": "Python 3 (ipykernel)",
   "language": "python",
   "name": "python3"
  },
  "language_info": {
   "codemirror_mode": {
    "name": "ipython",
    "version": 3
   },
   "file_extension": ".py",
   "mimetype": "text/x-python",
   "name": "python",
   "nbconvert_exporter": "python",
   "pygments_lexer": "ipython3",
   "version": "3.7.8"
  }
 },
 "nbformat": 4,
 "nbformat_minor": 5
}
